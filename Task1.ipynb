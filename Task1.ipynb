{
  "cells": [
    {
      "cell_type": "markdown",
      "source": [
        "Importing the necessary libraries and functions"
      ],
      "metadata": {
        "id": "SXsJYjCof_gv"
      }
    },
    {
      "cell_type": "code",
      "source": [
        "import json\n",
        "import numpy as np\n",
        "import pandas as pd"
      ],
      "metadata": {
        "id": "_7njTO9IgBjR"
      },
      "execution_count": 1,
      "outputs": []
    },
    {
      "cell_type": "markdown",
      "source": [
        "Opening and loading the JSON"
      ],
      "metadata": {
        "id": "EdkJl-uymeGH"
      }
    },
    {
      "cell_type": "code",
      "execution_count": 2,
      "metadata": {
        "id": "xzeQMSiSZGdy"
      },
      "outputs": [],
      "source": [
        "with open('/content/input_data.json','r') as f:\n",
        "    data = json.loads(f.read())"
      ]
    },
    {
      "cell_type": "markdown",
      "source": [
        "Extracting data from the JSON"
      ],
      "metadata": {
        "id": "xONdpdnQmmps"
      }
    },
    {
      "cell_type": "code",
      "execution_count": 3,
      "metadata": {
        "id": "26GewkYeZGd0"
      },
      "outputs": [],
      "source": [
        "refined_data = []\n",
        "\n",
        "for i in data:\n",
        "    temp_dict = dict()\n",
        "    temp_dict['abstract'] = i['abstract']['_value']\n",
        "    x = temp_dict['abstract'].split()\n",
        "    temp_dict['label'] = i['label']['_value']\n",
        "    y = temp_dict['label'].split()\n",
        "    temp_dict['num_signatures'] = i['numberOfSignatures']\n",
        "    temp_dict['label_length'] = len(y)\n",
        "    temp_dict['abstract_length'] = len(x)\n",
        "    refined_data.append(temp_dict)\n",
        "\n"
      ]
    },
    {
      "cell_type": "markdown",
      "source": [
        "Creating a datafrane to conveniently work with data"
      ],
      "metadata": {
        "id": "1d_tP_KZmtcI"
      }
    },
    {
      "cell_type": "code",
      "execution_count": 6,
      "metadata": {
        "id": "NNsijxd2ZGd0"
      },
      "outputs": [],
      "source": [
        "df = pd.DataFrame(refined_data)\n",
        "df= df.drop(['abstract','label'],axis=1)\n",
        "df['petition_id'] = np.arange(len(df))\n",
        "df = df[['petition_id','label_length','abstract_length','num_signatures']]\n",
        "df = df.sort_values(['num_signatures'],ascending = False)"
      ]
    },
    {
      "cell_type": "code",
      "source": [
        "df"
      ],
      "metadata": {
        "colab": {
          "base_uri": "https://localhost:8080/",
          "height": 424
        },
        "id": "u_rveDwAWsRY",
        "outputId": "02341631-6aed-490e-fe98-78965e82bc91"
      },
      "execution_count": 7,
      "outputs": [
        {
          "output_type": "execute_result",
          "data": {
            "text/plain": [
              "       petition_id  label_length  abstract_length  num_signatures\n",
              "12247        12247             8               45         6077572\n",
              "7807          7807             8               33         4150262\n",
              "9385          9385            12               40         1863708\n",
              "6161          6161             9               52          608104\n",
              "173            173             8               14          596875\n",
              "...            ...           ...              ...             ...\n",
              "8458          8458             8               46               6\n",
              "4408          4408            11               51               6\n",
              "7288          7288            12               44               6\n",
              "8952          8952            11               45               6\n",
              "6071          6071            11               55               6\n",
              "\n",
              "[12387 rows x 4 columns]"
            ],
            "text/html": [
              "\n",
              "  <div id=\"df-c13f4fe3-e51e-4971-a0e5-76bd9d723847\">\n",
              "    <div class=\"colab-df-container\">\n",
              "      <div>\n",
              "<style scoped>\n",
              "    .dataframe tbody tr th:only-of-type {\n",
              "        vertical-align: middle;\n",
              "    }\n",
              "\n",
              "    .dataframe tbody tr th {\n",
              "        vertical-align: top;\n",
              "    }\n",
              "\n",
              "    .dataframe thead th {\n",
              "        text-align: right;\n",
              "    }\n",
              "</style>\n",
              "<table border=\"1\" class=\"dataframe\">\n",
              "  <thead>\n",
              "    <tr style=\"text-align: right;\">\n",
              "      <th></th>\n",
              "      <th>petition_id</th>\n",
              "      <th>label_length</th>\n",
              "      <th>abstract_length</th>\n",
              "      <th>num_signatures</th>\n",
              "    </tr>\n",
              "  </thead>\n",
              "  <tbody>\n",
              "    <tr>\n",
              "      <th>12247</th>\n",
              "      <td>12247</td>\n",
              "      <td>8</td>\n",
              "      <td>45</td>\n",
              "      <td>6077572</td>\n",
              "    </tr>\n",
              "    <tr>\n",
              "      <th>7807</th>\n",
              "      <td>7807</td>\n",
              "      <td>8</td>\n",
              "      <td>33</td>\n",
              "      <td>4150262</td>\n",
              "    </tr>\n",
              "    <tr>\n",
              "      <th>9385</th>\n",
              "      <td>9385</td>\n",
              "      <td>12</td>\n",
              "      <td>40</td>\n",
              "      <td>1863708</td>\n",
              "    </tr>\n",
              "    <tr>\n",
              "      <th>6161</th>\n",
              "      <td>6161</td>\n",
              "      <td>9</td>\n",
              "      <td>52</td>\n",
              "      <td>608104</td>\n",
              "    </tr>\n",
              "    <tr>\n",
              "      <th>173</th>\n",
              "      <td>173</td>\n",
              "      <td>8</td>\n",
              "      <td>14</td>\n",
              "      <td>596875</td>\n",
              "    </tr>\n",
              "    <tr>\n",
              "      <th>...</th>\n",
              "      <td>...</td>\n",
              "      <td>...</td>\n",
              "      <td>...</td>\n",
              "      <td>...</td>\n",
              "    </tr>\n",
              "    <tr>\n",
              "      <th>8458</th>\n",
              "      <td>8458</td>\n",
              "      <td>8</td>\n",
              "      <td>46</td>\n",
              "      <td>6</td>\n",
              "    </tr>\n",
              "    <tr>\n",
              "      <th>4408</th>\n",
              "      <td>4408</td>\n",
              "      <td>11</td>\n",
              "      <td>51</td>\n",
              "      <td>6</td>\n",
              "    </tr>\n",
              "    <tr>\n",
              "      <th>7288</th>\n",
              "      <td>7288</td>\n",
              "      <td>12</td>\n",
              "      <td>44</td>\n",
              "      <td>6</td>\n",
              "    </tr>\n",
              "    <tr>\n",
              "      <th>8952</th>\n",
              "      <td>8952</td>\n",
              "      <td>11</td>\n",
              "      <td>45</td>\n",
              "      <td>6</td>\n",
              "    </tr>\n",
              "    <tr>\n",
              "      <th>6071</th>\n",
              "      <td>6071</td>\n",
              "      <td>11</td>\n",
              "      <td>55</td>\n",
              "      <td>6</td>\n",
              "    </tr>\n",
              "  </tbody>\n",
              "</table>\n",
              "<p>12387 rows × 4 columns</p>\n",
              "</div>\n",
              "      <button class=\"colab-df-convert\" onclick=\"convertToInteractive('df-c13f4fe3-e51e-4971-a0e5-76bd9d723847')\"\n",
              "              title=\"Convert this dataframe to an interactive table.\"\n",
              "              style=\"display:none;\">\n",
              "        \n",
              "  <svg xmlns=\"http://www.w3.org/2000/svg\" height=\"24px\"viewBox=\"0 0 24 24\"\n",
              "       width=\"24px\">\n",
              "    <path d=\"M0 0h24v24H0V0z\" fill=\"none\"/>\n",
              "    <path d=\"M18.56 5.44l.94 2.06.94-2.06 2.06-.94-2.06-.94-.94-2.06-.94 2.06-2.06.94zm-11 1L8.5 8.5l.94-2.06 2.06-.94-2.06-.94L8.5 2.5l-.94 2.06-2.06.94zm10 10l.94 2.06.94-2.06 2.06-.94-2.06-.94-.94-2.06-.94 2.06-2.06.94z\"/><path d=\"M17.41 7.96l-1.37-1.37c-.4-.4-.92-.59-1.43-.59-.52 0-1.04.2-1.43.59L10.3 9.45l-7.72 7.72c-.78.78-.78 2.05 0 2.83L4 21.41c.39.39.9.59 1.41.59.51 0 1.02-.2 1.41-.59l7.78-7.78 2.81-2.81c.8-.78.8-2.07 0-2.86zM5.41 20L4 18.59l7.72-7.72 1.47 1.35L5.41 20z\"/>\n",
              "  </svg>\n",
              "      </button>\n",
              "      \n",
              "  <style>\n",
              "    .colab-df-container {\n",
              "      display:flex;\n",
              "      flex-wrap:wrap;\n",
              "      gap: 12px;\n",
              "    }\n",
              "\n",
              "    .colab-df-convert {\n",
              "      background-color: #E8F0FE;\n",
              "      border: none;\n",
              "      border-radius: 50%;\n",
              "      cursor: pointer;\n",
              "      display: none;\n",
              "      fill: #1967D2;\n",
              "      height: 32px;\n",
              "      padding: 0 0 0 0;\n",
              "      width: 32px;\n",
              "    }\n",
              "\n",
              "    .colab-df-convert:hover {\n",
              "      background-color: #E2EBFA;\n",
              "      box-shadow: 0px 1px 2px rgba(60, 64, 67, 0.3), 0px 1px 3px 1px rgba(60, 64, 67, 0.15);\n",
              "      fill: #174EA6;\n",
              "    }\n",
              "\n",
              "    [theme=dark] .colab-df-convert {\n",
              "      background-color: #3B4455;\n",
              "      fill: #D2E3FC;\n",
              "    }\n",
              "\n",
              "    [theme=dark] .colab-df-convert:hover {\n",
              "      background-color: #434B5C;\n",
              "      box-shadow: 0px 1px 3px 1px rgba(0, 0, 0, 0.15);\n",
              "      filter: drop-shadow(0px 1px 2px rgba(0, 0, 0, 0.3));\n",
              "      fill: #FFFFFF;\n",
              "    }\n",
              "  </style>\n",
              "\n",
              "      <script>\n",
              "        const buttonEl =\n",
              "          document.querySelector('#df-c13f4fe3-e51e-4971-a0e5-76bd9d723847 button.colab-df-convert');\n",
              "        buttonEl.style.display =\n",
              "          google.colab.kernel.accessAllowed ? 'block' : 'none';\n",
              "\n",
              "        async function convertToInteractive(key) {\n",
              "          const element = document.querySelector('#df-c13f4fe3-e51e-4971-a0e5-76bd9d723847');\n",
              "          const dataTable =\n",
              "            await google.colab.kernel.invokeFunction('convertToInteractive',\n",
              "                                                     [key], {});\n",
              "          if (!dataTable) return;\n",
              "\n",
              "          const docLinkHtml = 'Like what you see? Visit the ' +\n",
              "            '<a target=\"_blank\" href=https://colab.research.google.com/notebooks/data_table.ipynb>data table notebook</a>'\n",
              "            + ' to learn more about interactive tables.';\n",
              "          element.innerHTML = '';\n",
              "          dataTable['output_type'] = 'display_data';\n",
              "          await google.colab.output.renderOutput(dataTable, element);\n",
              "          const docLink = document.createElement('div');\n",
              "          docLink.innerHTML = docLinkHtml;\n",
              "          element.appendChild(docLink);\n",
              "        }\n",
              "      </script>\n",
              "    </div>\n",
              "  </div>\n",
              "  "
            ]
          },
          "metadata": {},
          "execution_count": 7
        }
      ]
    },
    {
      "cell_type": "markdown",
      "source": [
        "Converting to CSV"
      ],
      "metadata": {
        "id": "7qhhK9F8m2gx"
      }
    },
    {
      "cell_type": "code",
      "source": [
        "df.to_csv('output1.csv', index = False)"
      ],
      "metadata": {
        "id": "dxlc30qWj0uH"
      },
      "execution_count": 9,
      "outputs": []
    }
  ],
  "metadata": {
    "interpreter": {
      "hash": "37bb1b54a4aad17666bef2e5d7bde16eb9ac23310eeef2dd5fc96ec1c9768b1a"
    },
    "kernelspec": {
      "display_name": "Python 3.10.1 ('nlp_tests')",
      "language": "python",
      "name": "python3"
    },
    "language_info": {
      "codemirror_mode": {
        "name": "ipython",
        "version": 3
      },
      "file_extension": ".py",
      "mimetype": "text/x-python",
      "name": "python",
      "nbconvert_exporter": "python",
      "pygments_lexer": "ipython3",
      "version": "3.10.1"
    },
    "orig_nbformat": 4,
    "colab": {
      "name": "Task1.ipynb",
      "provenance": [],
      "collapsed_sections": []
    }
  },
  "nbformat": 4,
  "nbformat_minor": 0
}